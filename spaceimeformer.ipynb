{
  "nbformat": 4,
  "nbformat_minor": 0,
  "metadata": {
    "colab": {
      "provenance": [],
      "authorship_tag": "ABX9TyNXLjTMJvT/8zAw26wF6BLr",
      "include_colab_link": true
    },
    "kernelspec": {
      "name": "python3",
      "display_name": "Python 3"
    },
    "language_info": {
      "name": "python"
    }
  },
  "cells": [
    {
      "cell_type": "markdown",
      "metadata": {
        "id": "view-in-github",
        "colab_type": "text"
      },
      "source": [
        "<a href=\"https://colab.research.google.com/github/pooyakalahroodi/ImageBlurring/blob/main/spaceimeformer.ipynb\" target=\"_parent\"><img src=\"https://colab.research.google.com/assets/colab-badge.svg\" alt=\"Open In Colab\"/></a>"
      ]
    },
    {
      "cell_type": "code",
      "source": [
        "!python /content/spacetimeformer/spacetimeformer/train.py spacetimeformer mnist --embed_method spatio-temporal --local_self_attn full --local_cross_attn full --global_self_attn full --global_cross_attn full --run_name mnist_spatiotemporal --context_points 10 --gpus 0\n"
      ],
      "metadata": {
        "colab": {
          "base_uri": "https://localhost:8080/"
        },
        "id": "RVYoTrfYJNrZ",
        "outputId": "ab0f5d72-08cf-4fd4-efcb-6b980bb5cb35"
      },
      "execution_count": 45,
      "outputs": [
        {
          "output_type": "stream",
          "name": "stdout",
          "text": [
            "Using default wandb log dir path of ./data/STF_LOG_DIR. This can be adjusted with the environment variable `STF_LOG_DIR`\n",
            "Forecaster\n",
            "\tL2: 1e-06\n",
            "\tLinear Window: 0\n",
            "\tLinear Shared Weights: False\n",
            "\tRevIN: False\n",
            "\tDecomposition: False\n",
            "GlobalSelfAttn: AttentionLayer(\n",
            "  (inner_attention): FullAttention(\n",
            "    (dropout): Dropout(p=0.0, inplace=False)\n",
            "  )\n",
            "  (query_projection): Linear(in_features=200, out_features=800, bias=True)\n",
            "  (key_projection): Linear(in_features=200, out_features=800, bias=True)\n",
            "  (value_projection): Linear(in_features=200, out_features=800, bias=True)\n",
            "  (out_projection): Linear(in_features=800, out_features=200, bias=True)\n",
            "  (dropout_qkv): Dropout(p=0.0, inplace=False)\n",
            ")\n",
            "GlobalCrossAttn: AttentionLayer(\n",
            "  (inner_attention): FullAttention(\n",
            "    (dropout): Dropout(p=0.0, inplace=False)\n",
            "  )\n",
            "  (query_projection): Linear(in_features=200, out_features=800, bias=True)\n",
            "  (key_projection): Linear(in_features=200, out_features=800, bias=True)\n",
            "  (value_projection): Linear(in_features=200, out_features=800, bias=True)\n",
            "  (out_projection): Linear(in_features=800, out_features=200, bias=True)\n",
            "  (dropout_qkv): Dropout(p=0.0, inplace=False)\n",
            ")\n",
            "LocalSelfAttn: AttentionLayer(\n",
            "  (inner_attention): FullAttention(\n",
            "    (dropout): Dropout(p=0.0, inplace=False)\n",
            "  )\n",
            "  (query_projection): Linear(in_features=200, out_features=800, bias=True)\n",
            "  (key_projection): Linear(in_features=200, out_features=800, bias=True)\n",
            "  (value_projection): Linear(in_features=200, out_features=800, bias=True)\n",
            "  (out_projection): Linear(in_features=800, out_features=200, bias=True)\n",
            "  (dropout_qkv): Dropout(p=0.0, inplace=False)\n",
            ")\n",
            "LocalCrossAttn: AttentionLayer(\n",
            "  (inner_attention): FullAttention(\n",
            "    (dropout): Dropout(p=0.0, inplace=False)\n",
            "  )\n",
            "  (query_projection): Linear(in_features=200, out_features=800, bias=True)\n",
            "  (key_projection): Linear(in_features=200, out_features=800, bias=True)\n",
            "  (value_projection): Linear(in_features=200, out_features=800, bias=True)\n",
            "  (out_projection): Linear(in_features=800, out_features=200, bias=True)\n",
            "  (dropout_qkv): Dropout(p=0.0, inplace=False)\n",
            ")\n",
            "Using Embedding: spatio-temporal\n",
            "Time Emb Dim: 6\n",
            "Space Embedding: True\n",
            "Time Embedding: True\n",
            "Val Embedding: True\n",
            "Given Embedding: True\n",
            "Null Value: None\n",
            "Pad Value: None\n",
            "Reconstruction Dropout: Timesteps 0.05, Standard 0.1, Seq (max len = 5) 0.2, Skip All Drop 1.0\n",
            " *** Spacetimeformer (v1.5) Summary: *** \n",
            "\t\tModel Dim: 200\n",
            "\t\tFF Dim: 800\n",
            "\t\tEnc Layers: 3\n",
            "\t\tDec Layers: 3\n",
            "\t\tEmbed Dropout: 0.2\n",
            "\t\tFF Dropout: 0.3\n",
            "\t\tAttn Out Dropout: 0.0\n",
            "\t\tAttn Matrix Dropout: 0.0\n",
            "\t\tQKV Dropout: 0.0\n",
            "\t\tL2 Coeff: 1e-06\n",
            "\t\tWarmup Steps: 0\n",
            "\t\tNormalization Scheme: batch\n",
            "\t\tAttention Time Windows: 1\n",
            "\t\tShifted Time Windows: False\n",
            "\t\tPosition Emb Type: abs\n",
            "\t\tRecon Loss Imp: 0.0\n",
            " ***                                  *** \n",
            "/usr/local/lib/python3.10/site-packages/torch/utils/data/dataloader.py:554: UserWarning: This DataLoader will create 6 worker processes in total. Our suggested max number of worker in current system is 2, which is smaller than what this DataLoader is going to create. Please be aware that excessive worker creation might get DataLoader running slow or even freeze, lower the worker number to avoid potential slowness/freeze if necessary.\n",
            "  warnings.warn(_create_warning_msg(\n",
            "Traceback (most recent call last):\n",
            "  File \"/content/spacetimeformer/spacetimeformer/train.py\", line 869, in <module>\n",
            "    main(args)\n",
            "  File \"/content/spacetimeformer/spacetimeformer/train.py\", line 834, in main\n",
            "    trainer = pl.Trainer(\n",
            "  File \"/usr/local/lib/python3.10/site-packages/pytorch_lightning/trainer/connectors/env_vars_connector.py\", line 40, in insert_env_defaults\n",
            "    return fn(self, **kwargs)\n",
            "  File \"/usr/local/lib/python3.10/site-packages/pytorch_lightning/trainer/trainer.py\", line 319, in __init__\n",
            "    self.accelerator_connector = AcceleratorConnector(\n",
            "  File \"/usr/local/lib/python3.10/site-packages/pytorch_lightning/trainer/connectors/accelerator_connector.py\", line 129, in __init__\n",
            "    self.parallel_device_ids = device_parser.parse_gpu_ids(self.gpus)\n",
            "  File \"/usr/local/lib/python3.10/site-packages/pytorch_lightning/utilities/device_parser.py\", line 81, in parse_gpu_ids\n",
            "    gpus = _sanitize_gpu_ids(gpus)\n",
            "  File \"/usr/local/lib/python3.10/site-packages/pytorch_lightning/utilities/device_parser.py\", line 149, in _sanitize_gpu_ids\n",
            "    raise MisconfigurationException(\n",
            "pytorch_lightning.utilities.exceptions.MisconfigurationException: You requested GPUs: [0]\n",
            " But your machine only has: []\n"
          ]
        }
      ]
    },
    {
      "cell_type": "code",
      "source": [
        "import pytorch_lightning"
      ],
      "metadata": {
        "id": "PAqg-TuaTmeK"
      },
      "execution_count": 27,
      "outputs": []
    },
    {
      "cell_type": "code",
      "source": [
        "pytorch_lightning.__version__"
      ],
      "metadata": {
        "colab": {
          "base_uri": "https://localhost:8080/",
          "height": 35
        },
        "id": "LBJM8HxMLphh",
        "outputId": "766b21f4-9f6a-4fba-c8a6-cc3cc508335a"
      },
      "execution_count": 28,
      "outputs": [
        {
          "output_type": "execute_result",
          "data": {
            "text/plain": [
              "'2.0.2'"
            ],
            "application/vnd.google.colaboratory.intrinsic+json": {
              "type": "string"
            }
          },
          "metadata": {},
          "execution_count": 28
        }
      ]
    },
    {
      "cell_type": "code",
      "source": [
        "!pip install -U  torch==1.13.1+cu116 torchvision==0.14.1+cu116 torchaudio==0.13.1 --extra-index-url https://download.pytorch.org/whl/cu116\n"
      ],
      "metadata": {
        "colab": {
          "base_uri": "https://localhost:8080/"
        },
        "id": "Pa82KWzaLuRk",
        "outputId": "2941c865-d48c-4389-9f1f-9718516e8bef"
      },
      "execution_count": 35,
      "outputs": [
        {
          "output_type": "stream",
          "name": "stdout",
          "text": [
            "Looking in indexes: https://pypi.org/simple, https://us-python.pkg.dev/colab-wheels/public/simple/, https://download.pytorch.org/whl/cu116\n",
            "Collecting torch==1.13.1+cu116\n",
            "  Downloading https://download.pytorch.org/whl/cu116/torch-1.13.1%2Bcu116-cp310-cp310-linux_x86_64.whl (1977.9 MB)\n",
            "\u001b[2K     \u001b[90m━━━━━━━━━━━━━━━━━━━━━━━━━━━━━━━━━━━━━━━━\u001b[0m \u001b[32m2.0/2.0 GB\u001b[0m \u001b[31m705.5 kB/s\u001b[0m eta \u001b[36m0:00:00\u001b[0m\n",
            "\u001b[?25hCollecting torchvision==0.14.1+cu116\n",
            "  Downloading https://download.pytorch.org/whl/cu116/torchvision-0.14.1%2Bcu116-cp310-cp310-linux_x86_64.whl (24.2 MB)\n",
            "\u001b[2K     \u001b[90m━━━━━━━━━━━━━━━━━━━━━━━━━━━━━━━━━━━━━━━━\u001b[0m \u001b[32m24.2/24.2 MB\u001b[0m \u001b[31m40.3 MB/s\u001b[0m eta \u001b[36m0:00:00\u001b[0m\n",
            "\u001b[?25hCollecting torchaudio==0.13.1\n",
            "  Downloading https://download.pytorch.org/whl/cu116/torchaudio-0.13.1%2Bcu116-cp310-cp310-linux_x86_64.whl (4.2 MB)\n",
            "\u001b[2K     \u001b[90m━━━━━━━━━━━━━━━━━━━━━━━━━━━━━━━━━━━━━━━━\u001b[0m \u001b[32m4.2/4.2 MB\u001b[0m \u001b[31m52.5 MB/s\u001b[0m eta \u001b[36m0:00:00\u001b[0m\n",
            "\u001b[?25hRequirement already satisfied: typing-extensions in /usr/local/lib/python3.10/site-packages (from torch==1.13.1+cu116) (4.5.0)\n",
            "Requirement already satisfied: requests in /usr/local/lib/python3.10/site-packages (from torchvision==0.14.1+cu116) (2.28.2)\n",
            "Requirement already satisfied: numpy in /usr/local/lib/python3.10/site-packages (from torchvision==0.14.1+cu116) (1.24.3)\n",
            "Requirement already satisfied: pillow!=8.3.*,>=5.3.0 in /usr/local/lib/python3.10/site-packages (from torchvision==0.14.1+cu116) (9.5.0)\n",
            "Requirement already satisfied: urllib3<1.27,>=1.21.1 in /usr/local/lib/python3.10/site-packages (from requests->torchvision==0.14.1+cu116) (1.26.15)\n",
            "Requirement already satisfied: certifi>=2017.4.17 in /usr/local/lib/python3.10/site-packages (from requests->torchvision==0.14.1+cu116) (2022.12.7)\n",
            "Requirement already satisfied: idna<4,>=2.5 in /usr/local/lib/python3.10/site-packages (from requests->torchvision==0.14.1+cu116) (3.4)\n",
            "Requirement already satisfied: charset-normalizer<4,>=2 in /usr/local/lib/python3.10/site-packages (from requests->torchvision==0.14.1+cu116) (3.1.0)\n",
            "Installing collected packages: torch, torchvision, torchaudio\n",
            "  Attempting uninstall: torch\n",
            "    Found existing installation: torch 1.13.0+cu116\n",
            "    Uninstalling torch-1.13.0+cu116:\n",
            "      Successfully uninstalled torch-1.13.0+cu116\n",
            "  Attempting uninstall: torchvision\n",
            "    Found existing installation: torchvision 0.14.0+cu116\n",
            "    Uninstalling torchvision-0.14.0+cu116:\n",
            "      Successfully uninstalled torchvision-0.14.0+cu116\n",
            "  Attempting uninstall: torchaudio\n",
            "    Found existing installation: torchaudio 0.13.0+cu116\n",
            "    Uninstalling torchaudio-0.13.0+cu116:\n",
            "      Successfully uninstalled torchaudio-0.13.0+cu116\n",
            "\u001b[31mERROR: pip's dependency resolver does not currently take into account all the packages that are installed. This behaviour is the source of the following dependency conflicts.\n",
            "pytorch-lightning 1.3.2 requires future>=0.17.1, which is not installed.\n",
            "pytorch-lightning 1.3.2 requires tensorboard!=2.5.0,>=2.2.0, which is not installed.\n",
            "pytorch-lightning 1.3.2 requires pyDeprecate==0.3.0, but you have pydeprecate 0.3.2 which is incompatible.\n",
            "pytorch-lightning 1.3.2 requires PyYAML<=5.4.1,>=5.1, but you have pyyaml 6.0 which is incompatible.\u001b[0m\u001b[31m\n",
            "\u001b[0mSuccessfully installed torch-1.13.1+cu116 torchaudio-0.13.1+cu116 torchvision-0.14.1+cu116\n",
            "\u001b[33mWARNING: Running pip as the 'root' user can result in broken permissions and conflicting behaviour with the system package manager. It is recommended to use a virtual environment instead: https://pip.pypa.io/warnings/venv\u001b[0m\u001b[33m\n",
            "\u001b[0m"
          ]
        }
      ]
    },
    {
      "cell_type": "code",
      "source": [
        "!pip install -U numpy==1.23.5"
      ],
      "metadata": {
        "colab": {
          "base_uri": "https://localhost:8080/"
        },
        "id": "MGRKVvIkMrtU",
        "outputId": "f29213f3-eeb5-47d3-f626-411046be0f7b"
      },
      "execution_count": 43,
      "outputs": [
        {
          "output_type": "stream",
          "name": "stdout",
          "text": [
            "Looking in indexes: https://pypi.org/simple, https://us-python.pkg.dev/colab-wheels/public/simple/\n",
            "Collecting numpy==1.23.5\n",
            "  Downloading numpy-1.23.5-cp310-cp310-manylinux_2_17_x86_64.manylinux2014_x86_64.whl (17.1 MB)\n",
            "\u001b[2K     \u001b[90m━━━━━━━━━━━━━━━━━━━━━━━━━━━━━━━━━━━━━━━━\u001b[0m \u001b[32m17.1/17.1 MB\u001b[0m \u001b[31m54.1 MB/s\u001b[0m eta \u001b[36m0:00:00\u001b[0m\n",
            "\u001b[?25hInstalling collected packages: numpy\n",
            "  Attempting uninstall: numpy\n",
            "    Found existing installation: numpy 1.24.3\n",
            "    Uninstalling numpy-1.24.3:\n",
            "      Successfully uninstalled numpy-1.24.3\n",
            "Successfully installed numpy-1.23.5\n",
            "\u001b[33mWARNING: Running pip as the 'root' user can result in broken permissions and conflicting behaviour with the system package manager. It is recommended to use a virtual environment instead: https://pip.pypa.io/warnings/venv\u001b[0m\u001b[33m\n",
            "\u001b[0m"
          ]
        }
      ]
    },
    {
      "cell_type": "code",
      "source": [],
      "metadata": {
        "id": "SDSvnpM4O3OT"
      },
      "execution_count": null,
      "outputs": []
    }
  ]
}